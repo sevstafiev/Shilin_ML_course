{
 "cells": [
  {
   "cell_type": "code",
   "execution_count": 1,
   "metadata": {},
   "outputs": [],
   "source": [
    "import numpy as np\n",
    "import pandas as pd\n",
    "from sklearn.model_selection import train_test_split\n",
    "from sklearn.ensemble import RandomForestClassifier\n",
    "from sklearn.svm import SVC\n",
    "from sklearn.linear_model import LogisticRegression\n",
    "from xgboost import XGBClassifier\n",
    "from sklearn.pipeline import Pipeline\n",
    "from sklearn.naive_bayes import BernoulliNB\n",
    "from sklearn.preprocessing import MinMaxScaler, StandardScaler, RobustScaler, Normalizer\n",
    "from sklearn.model_selection import train_test_split, cross_val_score, GridSearchCV, KFold \n",
    "\n",
    "from sklearn.preprocessing import PolynomialFeatures, Binarizer\n",
    "from sklearn.metrics import precision_score, f1_score"
   ]
  },
  {
   "cell_type": "code",
   "execution_count": 2,
   "metadata": {},
   "outputs": [],
   "source": [
    "column_names = [\"variance\", \"skewness\", \"curtosis\", \"entropy\", \"class\"]\n",
    "data = pd.read_csv('data_banknote_authentication.csv', names = column_names)\n",
    "X = data.drop('class',axis=1)\n",
    "y = data['class']\n",
    "X_train, X_test, y_train, y_test = train_test_split(X,y)"
   ]
  },
  {
   "cell_type": "code",
   "execution_count": 3,
   "metadata": {},
   "outputs": [],
   "source": [
    "pipe = Pipeline([('preprocessing', MinMaxScaler()), \n",
    "                 ('classifier', RandomForestClassifier())])\n",
    "\n",
    "param_grid =[{'classifier': [SVC()], \n",
    "     'preprocessing': [None, StandardScaler(), MinMaxScaler(), Normalizer()],\n",
    "     'classifier__gamma': [0.001, 0.01, 0.1, 1, 10, 100],\n",
    "     'classifier__C': [0.001, 0.01, 0.1, 1, 10, 100]}]"
   ]
  },
  {
   "cell_type": "code",
   "execution_count": 4,
   "metadata": {},
   "outputs": [
    {
     "data": {
      "text/plain": [
       "1.0"
      ]
     },
     "execution_count": 4,
     "metadata": {},
     "output_type": "execute_result"
    }
   ],
   "source": [
    "grid = GridSearchCV(pipe, param_grid, cv=5, return_train_score=True, n_jobs=-1,scoring='f1')\n",
    "grid.fit(X_train,y_train);\n",
    "f1_score(grid.predict(X_test),y_test)"
   ]
  },
  {
   "cell_type": "code",
   "execution_count": 5,
   "metadata": {},
   "outputs": [
    {
     "name": "stdout",
     "output_type": "stream",
     "text": [
      "----------------- Обучили и тестировали -------------------\n",
      "Наилучшие параметры:\n",
      "{'classifier': SVC(C=1, break_ties=False, cache_size=200, class_weight=None, coef0=0.0,\n",
      "    decision_function_shape='ovr', degree=3, gamma=0.1, kernel='rbf',\n",
      "    max_iter=-1, probability=False, random_state=None, shrinking=True,\n",
      "    tol=0.001, verbose=False), 'classifier__C': 1, 'classifier__gamma': 0.1, 'preprocessing': None}\n",
      "\n",
      "Средняя правильность для наилучшей модели кроссвалидации на валидационных тестовых наборах: 1.000000\n",
      "\n",
      "Средняя правильность для наилучшей модели на тестовом наборе: 1.000000\n",
      "\n"
     ]
    }
   ],
   "source": [
    "print(\"----------------- Обучили и тестировали -------------------\")\n",
    "print(\"Наилучшие параметры:\\n{}\\n\".format(grid.best_params_))\n",
    "print(\"Средняя правильность для наилучшей модели кроссвалидации на валидационных тестовых наборах: {:.6f}\\n\".format(grid.best_score_)) \n",
    "print(\"Средняя правильность для наилучшей модели на тестовом наборе: {:.6f}\\n\".format(grid.score(X_test, y_test)))"
   ]
  },
  {
   "cell_type": "code",
   "execution_count": 6,
   "metadata": {},
   "outputs": [],
   "source": [
    "param_grid=[{'classifier': [RandomForestClassifier()],\n",
    "     'classifier__n_estimators':[100,300,500],\n",
    "     'preprocessing': [None], \n",
    "     'classifier__max_features': [1, 2, 3, 4]}]"
   ]
  },
  {
   "cell_type": "code",
   "execution_count": 7,
   "metadata": {},
   "outputs": [
    {
     "data": {
      "text/plain": [
       "0.9907692307692307"
      ]
     },
     "execution_count": 7,
     "metadata": {},
     "output_type": "execute_result"
    }
   ],
   "source": [
    "grid = GridSearchCV(pipe, param_grid, cv=5, return_train_score=True, n_jobs=-1,scoring='f1')\n",
    "grid.fit(X_train,y_train);\n",
    "f1_score(grid.predict(X_test),y_test)"
   ]
  },
  {
   "cell_type": "code",
   "execution_count": 8,
   "metadata": {},
   "outputs": [
    {
     "name": "stdout",
     "output_type": "stream",
     "text": [
      "----------------- Обучили и тестировали -------------------\n",
      "Наилучшие параметры:\n",
      "{'classifier': RandomForestClassifier(bootstrap=True, ccp_alpha=0.0, class_weight=None,\n",
      "                       criterion='gini', max_depth=None, max_features=2,\n",
      "                       max_leaf_nodes=None, max_samples=None,\n",
      "                       min_impurity_decrease=0.0, min_impurity_split=None,\n",
      "                       min_samples_leaf=1, min_samples_split=2,\n",
      "                       min_weight_fraction_leaf=0.0, n_estimators=300,\n",
      "                       n_jobs=None, oob_score=False, random_state=None,\n",
      "                       verbose=0, warm_start=False), 'classifier__max_features': 2, 'classifier__n_estimators': 300, 'preprocessing': None}\n",
      "\n",
      "Средняя правильность для наилучшей модели кроссвалидации на валидационных тестовых наборах: 0.991111\n",
      "\n",
      "Средняя правильность для наилучшей модели на тестовом наборе: 0.990769\n",
      "\n"
     ]
    }
   ],
   "source": [
    "print(\"----------------- Обучили и тестировали -------------------\")\n",
    "print(\"Наилучшие параметры:\\n{}\\n\".format(grid.best_params_))\n",
    "print(\"Средняя правильность для наилучшей модели кроссвалидации на валидационных тестовых наборах: {:.6f}\\n\".format(grid.best_score_)) \n",
    "print(\"Средняя правильность для наилучшей модели на тестовом наборе: {:.6f}\\n\".format(grid.score(X_test, y_test)))"
   ]
  },
  {
   "cell_type": "code",
   "execution_count": 9,
   "metadata": {},
   "outputs": [],
   "source": [
    "param_grid=[{'classifier': [XGBClassifier()],\n",
    "     'preprocessing': [None], \n",
    "     'classifier__max_depth': [1, 2, 3, 4, 5],\n",
    "     'classifier__n_estimators':[100,300,500],\n",
    "     'classifier__learning_rate':[0.05, 0.1, 0.2]\n",
    "    }]"
   ]
  },
  {
   "cell_type": "code",
   "execution_count": 10,
   "metadata": {},
   "outputs": [
    {
     "data": {
      "text/plain": [
       "0.9937888198757764"
      ]
     },
     "execution_count": 10,
     "metadata": {},
     "output_type": "execute_result"
    }
   ],
   "source": [
    "grid = GridSearchCV(pipe, param_grid, cv=5, return_train_score=True, n_jobs=-1,scoring='f1')\n",
    "grid.fit(X_train,y_train);\n",
    "f1_score(grid.predict(X_test),y_test)"
   ]
  },
  {
   "cell_type": "code",
   "execution_count": 11,
   "metadata": {},
   "outputs": [
    {
     "name": "stdout",
     "output_type": "stream",
     "text": [
      "----------------- Обучили и тестировали -------------------\n",
      "Наилучшие параметры:\n",
      "{'classifier': XGBClassifier(base_score=0.5, booster='gbtree', colsample_bylevel=1,\n",
      "              colsample_bynode=1, colsample_bytree=1, gamma=0,\n",
      "              learning_rate=0.2, max_delta_step=0, max_depth=2,\n",
      "              min_child_weight=1, missing=None, n_estimators=500, n_jobs=1,\n",
      "              nthread=None, objective='binary:logistic', random_state=0,\n",
      "              reg_alpha=0, reg_lambda=1, scale_pos_weight=1, seed=None,\n",
      "              silent=None, subsample=1, verbosity=1), 'classifier__learning_rate': 0.2, 'classifier__max_depth': 2, 'classifier__n_estimators': 500, 'preprocessing': None}\n",
      "\n",
      "Средняя правильность для наилучшей модели кроссвалидации на валидационных тестовых наборах: 0.996673\n",
      "\n",
      "Средняя правильность для наилучшей модели на тестовом наборе: 0.993789\n",
      "\n"
     ]
    }
   ],
   "source": [
    "print(\"----------------- Обучили и тестировали -------------------\")\n",
    "print(\"Наилучшие параметры:\\n{}\\n\".format(grid.best_params_))\n",
    "print(\"Средняя правильность для наилучшей модели кроссвалидации на валидационных тестовых наборах: {:.6f}\\n\".format(grid.best_score_)) \n",
    "print(\"Средняя правильность для наилучшей модели на тестовом наборе: {:.6f}\\n\".format(grid.score(X_test, y_test)))"
   ]
  },
  {
   "cell_type": "code",
   "execution_count": 12,
   "metadata": {},
   "outputs": [],
   "source": [
    "param_grid=[{'classifier': [LogisticRegression()],\n",
    "     'preprocessing': [None, StandardScaler(), MinMaxScaler(), Normalizer()],\n",
    "     'classifier__penalty':['l1','l2'],\n",
    "     'classifier__C':[0.1,0.5,1]        \n",
    "    }]"
   ]
  },
  {
   "cell_type": "code",
   "execution_count": 13,
   "metadata": {},
   "outputs": [
    {
     "data": {
      "text/plain": [
       "0.9877300613496933"
      ]
     },
     "execution_count": 13,
     "metadata": {},
     "output_type": "execute_result"
    }
   ],
   "source": [
    "grid = GridSearchCV(pipe, param_grid, cv=5, return_train_score=True, n_jobs=-1,scoring='precision')\n",
    "grid.fit(X_train,y_train);\n",
    "f1_score(grid.predict(X_test),y_test)"
   ]
  },
  {
   "cell_type": "code",
   "execution_count": 14,
   "metadata": {},
   "outputs": [
    {
     "name": "stdout",
     "output_type": "stream",
     "text": [
      "----------------- Обучили и тестировали -------------------\n",
      "Наилучшие параметры:\n",
      "{'classifier': LogisticRegression(C=1, class_weight=None, dual=False, fit_intercept=True,\n",
      "                   intercept_scaling=1, l1_ratio=None, max_iter=100,\n",
      "                   multi_class='auto', n_jobs=None, penalty='l2',\n",
      "                   random_state=None, solver='lbfgs', tol=0.0001, verbose=0,\n",
      "                   warm_start=False), 'classifier__C': 1, 'classifier__penalty': 'l2', 'preprocessing': None}\n",
      "\n",
      "Средняя правильность для наилучшей модели кроссвалидации на валидационных тестовых наборах: 0.986691\n",
      "\n",
      "Средняя правильность для наилучшей модели на тестовом наборе: 0.975758\n",
      "\n"
     ]
    }
   ],
   "source": [
    "print(\"----------------- Обучили и тестировали -------------------\")\n",
    "print(\"Наилучшие параметры:\\n{}\\n\".format(grid.best_params_))\n",
    "print(\"Средняя правильность для наилучшей модели кроссвалидации на валидационных тестовых наборах: {:.6f}\\n\".format(grid.best_score_)) \n",
    "print(\"Средняя правильность для наилучшей модели на тестовом наборе: {:.6f}\\n\".format(grid.score(X_test, y_test)))"
   ]
  },
  {
   "cell_type": "code",
   "execution_count": 15,
   "metadata": {},
   "outputs": [],
   "source": [
    "param_grid=[{'classifier': [BernoulliNB()],\n",
    "     'preprocessing':[None,Binarizer()],\n",
    "     'classifier__alpha':[0.1,0.5,1]\n",
    "    }]"
   ]
  },
  {
   "cell_type": "code",
   "execution_count": 16,
   "metadata": {},
   "outputs": [
    {
     "data": {
      "text/plain": [
       "0.8322981366459627"
      ]
     },
     "execution_count": 16,
     "metadata": {},
     "output_type": "execute_result"
    }
   ],
   "source": [
    "grid = GridSearchCV(pipe, param_grid, cv=5, return_train_score=True, n_jobs=-1)\n",
    "grid.fit(X_train,y_train);\n",
    "precision_score(grid.predict(X_test),y_test)"
   ]
  },
  {
   "cell_type": "code",
   "execution_count": 17,
   "metadata": {
    "scrolled": true
   },
   "outputs": [
    {
     "name": "stdout",
     "output_type": "stream",
     "text": [
      "----------------- Обучили и тестировали -------------------\n",
      "Наилучшие параметры:\n",
      "{'classifier': BernoulliNB(alpha=0.1, binarize=0.0, class_prior=None, fit_prior=True), 'classifier__alpha': 0.1, 'preprocessing': None}\n",
      "\n",
      "Средняя правильность для наилучшей модели кроссвалидации на валидационных тестовых наборах: 0.839612\n",
      "\n",
      "Средняя правильность для наилучшей модели на тестовом наборе: 0.857143\n",
      "\n"
     ]
    }
   ],
   "source": [
    "print(\"----------------- Обучили и тестировали -------------------\")\n",
    "print(\"Наилучшие параметры:\\n{}\\n\".format(grid.best_params_))\n",
    "print(\"Средняя правильность для наилучшей модели кроссвалидации на валидационных тестовых наборах: {:.6f}\\n\".format(grid.best_score_)) \n",
    "print(\"Средняя правильность для наилучшей модели на тестовом наборе: {:.6f}\\n\".format(grid.score(X_test, y_test)))"
   ]
  }
 ],
 "metadata": {
  "kernelspec": {
   "display_name": "Python 3",
   "language": "python",
   "name": "python3"
  },
  "language_info": {
   "codemirror_mode": {
    "name": "ipython",
    "version": 3
   },
   "file_extension": ".py",
   "mimetype": "text/x-python",
   "name": "python",
   "nbconvert_exporter": "python",
   "pygments_lexer": "ipython3",
   "version": "3.8.3"
  }
 },
 "nbformat": 4,
 "nbformat_minor": 2
}
