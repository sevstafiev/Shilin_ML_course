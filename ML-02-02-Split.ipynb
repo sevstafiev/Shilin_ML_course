{
 "cells": [
  {
   "cell_type": "markdown",
   "metadata": {},
   "source": [
    "# Деление выборки"
   ]
  },
  {
   "cell_type": "code",
   "execution_count": 1,
   "metadata": {},
   "outputs": [
    {
     "data": {
      "image/png": "[encoded data removed]",
      "text/plain": [
       "<Figure size 432x288 with 1 Axes>"
      ]
     },
     "metadata": {
      "needs_background": "light"
     },
     "output_type": "display_data"
    }
   ],
   "source": [
    "from sklearn.model_selection import (TimeSeriesSplit, KFold, ShuffleSplit,\n",
    "                                     StratifiedKFold, GroupShuffleSplit,\n",
    "                                     GroupKFold, StratifiedShuffleSplit)\n",
    "import numpy as np\n",
    "import matplotlib.pyplot as plt\n",
    "from matplotlib.patches import Patch\n",
    "\n",
    "np.random.seed(1338)\n",
    "cmap_data = plt.cm.Paired\n",
    "cmap_cv = plt.cm.coolwarm\n",
    "n_splits = 4\n",
    "# Generate the class/group data\n",
    "n_points = 100\n",
    "X = np.random.randn(100, 10)\n",
    "\n",
    "percentiles_classes = [.1, .3, .6]\n",
    "y = np.hstack([[ii] * int(100 * perc)\n",
    "               for ii, perc in enumerate(percentiles_classes)])\n",
    "\n",
    "# Evenly spaced groups repeated once\n",
    "groups = np.hstack([[ii] * 10 for ii in range(10)])\n",
    "\n",
    "\n",
    "def visualize_groups(classes, groups, name):\n",
    "    # Visualize dataset groups\n",
    "    fig, ax = plt.subplots()\n",
    "    ax.scatter(range(len(groups)),  [.5] * len(groups), c=groups, marker='_',\n",
    "               lw=50, cmap=cmap_data)\n",
    "    ax.scatter(range(len(groups)),  [3.5] * len(groups), c=classes, marker='_',\n",
    "               lw=50, cmap=cmap_data)\n",
    "    ax.set(ylim=[-1, 5], yticks=[.5, 3.5],\n",
    "           yticklabels=['Data\\ngroup', 'Data\\nclass'], xlabel=\"Sample index\")\n",
    "\n",
    "\n",
    "visualize_groups(y, groups, 'no groups')\n",
    "\n",
    "def plot_cv_indices(cv, X, y, group, ax, n_splits, lw=10):\n",
    "    \"\"\"Create a sample plot for indices of a cross-validation object.\"\"\"\n",
    "\n",
    "    # Generate the training/testing visualizations for each CV split\n",
    "    for ii, (tr, tt) in enumerate(cv.split(X=X, y=y, groups=group)):\n",
    "        # Fill in indices with the training/test groups\n",
    "        indices = np.array([np.nan] * len(X))\n",
    "        indices[tt] = 1\n",
    "        indices[tr] = 0\n",
    "\n",
    "        # Visualize the results\n",
    "        ax.scatter(range(len(indices)), [ii + .5] * len(indices),\n",
    "                   c=indices, marker='_', lw=lw, cmap=cmap_cv,\n",
    "                   vmin=-.2, vmax=1.2)\n",
    "\n",
    "    # Plot the data classes and groups at the end\n",
    "    ax.scatter(range(len(X)), [ii + 1.5] * len(X),\n",
    "               c=y, marker='_', lw=lw, cmap=cmap_data)\n",
    "\n",
    "    ax.scatter(range(len(X)), [ii + 2.5] * len(X),\n",
    "               c=group, marker='_', lw=lw, cmap=cmap_data)\n",
    "\n",
    "    # Formatting\n",
    "    yticklabels = list(range(n_splits)) + ['class', 'group']\n",
    "    ax.set(yticks=np.arange(n_splits+2) + .5, yticklabels=yticklabels,\n",
    "           xlabel='Sample index', ylabel=\"CV iteration\",\n",
    "           ylim=[n_splits+2.2, -.2], xlim=[0, 100])\n",
    "    ax.set_title('{}'.format(type(cv).__name__), fontsize=15)\n",
    "    return ax"
   ]
  },
  {
   "cell_type": "markdown",
   "metadata": {},
   "source": [
    "## кросс-валидация KFold"
   ]
  },
  {
   "cell_type": "code",
   "execution_count": 2,
   "metadata": {},
   "outputs": [
    {
     "data": {
      "image/png": "[encoded data removed]",
      "text/plain": [
       "<Figure size 432x288 with 1 Axes>"
      ]
     },
     "metadata": {
      "needs_background": "light"
     },
     "output_type": "display_data"
    }
   ],
   "source": [
    "fig, ax = plt.subplots()\n",
    "cv = KFold(n_splits)\n",
    "ax.legend([Patch(color=cmap_cv(.8)), Patch(color=cmap_cv(.02))],\n",
    "              ['Testing set', 'Training set'], loc=(1.02, .8))\n",
    "plot_cv_indices(cv, X, y, groups, ax, n_splits);"
   ]
  },
  {
   "cell_type": "code",
   "execution_count": 3,
   "metadata": {},
   "outputs": [
    {
     "name": "stdout",
     "output_type": "stream",
     "text": [
      "[4 5 6 7 8 9] [0 1 2 3]\n",
      "[0 1 2 3 7 8 9] [4 5 6]\n",
      "[0 1 2 3 4 5 6] [7 8 9]\n"
     ]
    }
   ],
   "source": [
    "import numpy as np\n",
    "from sklearn.model_selection import KFold\n",
    "\n",
    "Xt = range(10)\n",
    "kf = KFold(n_splits=3)\n",
    "for train, test in kf.split(Xt):\n",
    "    print(\"%s %s\" % (train, test))"
   ]
  },
  {
   "cell_type": "code",
   "execution_count": 4,
   "metadata": {},
   "outputs": [
    {
     "name": "stdout",
     "output_type": "stream",
     "text": [
      "[4 5 6 7 8 9] [0 1 2 3]\n",
      "[0 1 2 3 7 8 9] [4 5 6]\n",
      "[0 1 2 3 4 5 6] [7 8 9]\n"
     ]
    }
   ],
   "source": [
    "Xt = range(10)\n",
    "kf = KFold(n_splits=3)\n",
    "for train, test in kf.split(Xt):\n",
    "    print(\"%s %s\" % (train, test))"
   ]
  },
  {
   "cell_type": "code",
   "execution_count": 5,
   "metadata": {},
   "outputs": [
    {
     "name": "stdout",
     "output_type": "stream",
     "text": [
      "[0 3 5 7 8 9] [1 2 4 6]\n",
      "[1 2 3 4 5 6 7] [0 8 9]\n",
      "[0 1 2 4 6 8 9] [3 5 7]\n",
      "[0 1 4 7 8 9] [2 3 5 6]\n",
      "[2 3 5 6 7 8 9] [0 1 4]\n",
      "[0 1 2 3 4 5 6] [7 8 9]\n"
     ]
    }
   ],
   "source": [
    "from sklearn.model_selection import RepeatedKFold\n",
    "Xt = range(10)\n",
    "rkf = RepeatedKFold(n_splits=3, n_repeats=2) # Внимание! random_state не использовать !!!\n",
    "for train, test in rkf.split(Xt):\n",
    "    print(\"%s %s\" % (train, test))"
   ]
  },
  {
   "cell_type": "code",
   "execution_count": 6,
   "metadata": {},
   "outputs": [
    {
     "name": "stdout",
     "output_type": "stream",
     "text": [
      "[1 2 3 4] [0]\n",
      "[0 2 3 4] [1]\n",
      "[0 1 3 4] [2]\n",
      "[0 1 2 4] [3]\n",
      "[0 1 2 3] [4]\n"
     ]
    }
   ],
   "source": [
    "from sklearn.model_selection import LeaveOneOut\n",
    "Xt = range(5)\n",
    "loo = LeaveOneOut()\n",
    "for train, test in loo.split(Xt):\n",
    "    print(\"%s %s\" % (train, test))"
   ]
  },
  {
   "cell_type": "code",
   "execution_count": 7,
   "metadata": {},
   "outputs": [
    {
     "name": "stdout",
     "output_type": "stream",
     "text": [
      "[2 3 4] [0 1]\n",
      "[1 3 4] [0 2]\n",
      "[1 2 4] [0 3]\n",
      "[1 2 3] [0 4]\n",
      "[0 3 4] [1 2]\n",
      "[0 2 4] [1 3]\n",
      "[0 2 3] [1 4]\n",
      "[0 1 4] [2 3]\n",
      "[0 1 3] [2 4]\n",
      "[0 1 2] [3 4]\n"
     ]
    }
   ],
   "source": [
    "from sklearn.model_selection import LeavePOut\n",
    "Xt = range(5)\n",
    "loo = LeavePOut(p=2) # число сочетаний\n",
    "for train, test in loo.split(Xt):\n",
    "    print(\"%s %s\" % (train, test))"
   ]
  },
  {
   "cell_type": "markdown",
   "metadata": {},
   "source": [
    "## кросс-валидация StratifiedKFold"
   ]
  },
  {
   "cell_type": "code",
   "execution_count": 8,
   "metadata": {},
   "outputs": [
    {
     "data": {
      "image/png": "[encoded data removed]",
      "text/plain": [
       "<Figure size 432x288 with 1 Axes>"
      ]
     },
     "metadata": {
      "needs_background": "light"
     },
     "output_type": "display_data"
    }
   ],
   "source": [
    "fig, ax = plt.subplots()\n",
    "cv = StratifiedKFold(n_splits)\n",
    "ax.legend([Patch(color=cmap_cv(.8)), Patch(color=cmap_cv(.02))],\n",
    "              ['Testing set', 'Training set'], loc=(1.02, .8))\n",
    "plot_cv_indices(cv, X, y, groups, ax, n_splits);"
   ]
  },
  {
   "cell_type": "code",
   "execution_count": 9,
   "metadata": {},
   "outputs": [
    {
     "name": "stdout",
     "output_type": "stream",
     "text": [
      "в скобках: [класс 0   класс 1]\n",
      "train -  [30  3]   |   test -  [15  2]\n",
      "train -  [30  3]   |   test -  [15  2]\n",
      "train -  [30  4]   |   test -  [15  1]\n"
     ]
    }
   ],
   "source": [
    "Xt, yt = np.ones((50, 1)), np.hstack(([0] * 45, [1] * 5))\n",
    "skf = StratifiedKFold(n_splits=3)\n",
    "print('в скобках: [класс 0   класс 1]')\n",
    "for train, test in skf.split(Xt, yt):\n",
    "    print('train -  {}   |   test -  {}'.format(\n",
    "        np.bincount(yt[train]), np.bincount(yt[test])))\n"
   ]
  },
  {
   "cell_type": "markdown",
   "metadata": {},
   "source": [
    "## кросс-валидация ShuffleSplit"
   ]
  },
  {
   "cell_type": "code",
   "execution_count": 10,
   "metadata": {},
   "outputs": [
    {
     "data": {
      "image/png": "[encoded data removed]",
      "text/plain": [
       "<Figure size 432x288 with 1 Axes>"
      ]
     },
     "metadata": {
      "needs_background": "light"
     },
     "output_type": "display_data"
    }
   ],
   "source": [
    "fig, ax = plt.subplots()\n",
    "cv = ShuffleSplit(n_splits)\n",
    "ax.legend([Patch(color=cmap_cv(.8)), Patch(color=cmap_cv(.02))],\n",
    "              ['Testing set', 'Training set'], loc=(1.02, .8))\n",
    "plot_cv_indices(cv, X, y, groups, ax, n_splits);"
   ]
  },
  {
   "cell_type": "code",
   "execution_count": 11,
   "metadata": {},
   "outputs": [
    {
     "name": "stdout",
     "output_type": "stream",
     "text": [
      "в скобках: [класс 0   класс 1]\n",
      "train -  [25 12]   |   test -  [10  3]\n",
      "train -  [25 12]   |   test -  [10  3]\n",
      "train -  [26 11]   |   test -  [9 4]\n",
      "train -  [25 12]   |   test -  [10  3]\n",
      "train -  [27 10]   |   test -  [8 5]\n"
     ]
    }
   ],
   "source": [
    "Xt, yt = np.ones((50, 1)), np.hstack(([0] * 35, [1] * 15))\n",
    "rs = ShuffleSplit(n_splits=5, test_size=.25, random_state=0)\n",
    "print('в скобках: [класс 0   класс 1]')\n",
    "for train, test in rs.split(Xt, yt):\n",
    "    print('train -  {}   |   test -  {}'.format(\n",
    "        np.bincount(yt[train]), np.bincount(yt[test])))\n",
    "    \n",
    "    "
   ]
  },
  {
   "cell_type": "markdown",
   "metadata": {},
   "source": [
    "## кросс-валидация StratifiedShuffleSplit"
   ]
  },
  {
   "cell_type": "code",
   "execution_count": 12,
   "metadata": {},
   "outputs": [
    {
     "data": {
      "image/png": "[encoded data removed]",
      "text/plain": [
       "<Figure size 432x288 with 1 Axes>"
      ]
     },
     "metadata": {
      "needs_background": "light"
     },
     "output_type": "display_data"
    }
   ],
   "source": [
    "fig, ax = plt.subplots()\n",
    "cv = StratifiedShuffleSplit(n_splits)\n",
    "ax.legend([Patch(color=cmap_cv(.8)), Patch(color=cmap_cv(.02))],\n",
    "              ['Testing set', 'Training set'], loc=(1.02, .8))\n",
    "plot_cv_indices(cv, X, y, groups, ax, n_splits);"
   ]
  },
  {
   "cell_type": "code",
   "execution_count": 13,
   "metadata": {},
   "outputs": [
    {
     "name": "stdout",
     "output_type": "stream",
     "text": [
      "в скобках: [класс 0   класс 1]\n",
      "train -  [26 11]   |   test -  [9 4]\n",
      "train -  [26 11]   |   test -  [9 4]\n",
      "train -  [26 11]   |   test -  [9 4]\n",
      "train -  [26 11]   |   test -  [9 4]\n",
      "train -  [26 11]   |   test -  [9 4]\n"
     ]
    }
   ],
   "source": [
    "Xt, yt = np.ones((50, 1)), np.hstack(([0] * 35, [1] * 15))\n",
    "rs = StratifiedShuffleSplit(n_splits=5, test_size=.25, random_state=0)\n",
    "print('в скобках: [класс 0   класс 1]')\n",
    "for train, test in rs.split(Xt, yt):\n",
    "    print('train -  {}   |   test -  {}'.format(\n",
    "        np.bincount(yt[train]), np.bincount(yt[test])))"
   ]
  },
  {
   "cell_type": "markdown",
   "metadata": {},
   "source": [
    "## кросс-валидация TimeSeriesSplit"
   ]
  },
  {
   "cell_type": "code",
   "execution_count": 14,
   "metadata": {},
   "outputs": [
    {
     "data": {
      "image/png": "[encoded data removed]",
      "text/plain": [
       "<Figure size 432x288 with 1 Axes>"
      ]
     },
     "metadata": {
      "needs_background": "light"
     },
     "output_type": "display_data"
    }
   ],
   "source": [
    "fig, ax = plt.subplots()\n",
    "cv = TimeSeriesSplit(n_splits)\n",
    "ax.legend([Patch(color=cmap_cv(.8)), Patch(color=cmap_cv(.02))],\n",
    "              ['Testing set', 'Training set'], loc=(1.02, .8))\n",
    "plot_cv_indices(cv, X, y, groups, ax, n_splits);"
   ]
  },
  {
   "cell_type": "code",
   "execution_count": 15,
   "metadata": {},
   "outputs": [
    {
     "name": "stdout",
     "output_type": "stream",
     "text": [
      "TimeSeriesSplit(max_train_size=None, n_splits=5)\n",
      "TRAIN: [0] TEST: [1]\n",
      "TRAIN: [0 1] TEST: [2]\n",
      "TRAIN: [0 1 2] TEST: [3]\n",
      "TRAIN: [0 1 2 3] TEST: [4]\n",
      "TRAIN: [0 1 2 3 4] TEST: [5]\n"
     ]
    }
   ],
   "source": [
    "from sklearn.model_selection import TimeSeriesSplit\n",
    "Xt = np.array([[1, 2], [3, 4], [1, 2], [3, 4], [1, 2], [3, 4]])\n",
    "yt = np.array([1, 2, 3, 4, 5, 6])\n",
    "tscv = TimeSeriesSplit(n_splits=5)\n",
    "print(tscv)\n",
    "\n",
    "for train_index, test_index in tscv.split(Xt):\n",
    "    print(\"TRAIN:\", train_index, \"TEST:\", test_index)\n",
    "    X_train, X_test = Xt[train_index], Xt[test_index]\n",
    "    y_train, y_test = yt[train_index], yt[test_index]"
   ]
  },
  {
   "cell_type": "code",
   "execution_count": 16,
   "metadata": {},
   "outputs": [
    {
     "name": "stdout",
     "output_type": "stream",
     "text": [
      "TimeSeriesSplit(max_train_size=3, n_splits=3)\n",
      "TRAIN: [0 1 2] TEST: [3]\n",
      "TRAIN: [1 2 3] TEST: [4]\n",
      "TRAIN: [2 3 4] TEST: [5]\n"
     ]
    }
   ],
   "source": [
    "from sklearn.model_selection import TimeSeriesSplit\n",
    "Xt = np.array([[1, 2], [3, 4], [1, 2], [3, 4], [1, 2], [3, 4]])\n",
    "yt = np.array([1, 2, 3, 4, 5, 6])\n",
    "tscv = TimeSeriesSplit(max_train_size=3,n_splits=3)\n",
    "print(tscv)\n",
    "\n",
    "for train_index, test_index in tscv.split(Xt):\n",
    "    print(\"TRAIN:\", train_index, \"TEST:\", test_index)\n",
    "    X_train, X_test = Xt[train_index], Xt[test_index]\n",
    "    y_train, y_test = yt[train_index], yt[test_index]"
   ]
  },
  {
   "cell_type": "markdown",
   "metadata": {},
   "source": [
    "## кросс-валидация GroupKFold"
   ]
  },
  {
   "cell_type": "code",
   "execution_count": 17,
   "metadata": {},
   "outputs": [
    {
     "data": {
      "image/png": "[encoded data removed]",
      "text/plain": [
       "<Figure size 432x288 with 1 Axes>"
      ]
     },
     "metadata": {
      "needs_background": "light"
     },
     "output_type": "display_data"
    }
   ],
   "source": [
    "fig, ax = plt.subplots()\n",
    "cv = GroupKFold(n_splits)\n",
    "ax.legend([Patch(color=cmap_cv(.8)), Patch(color=cmap_cv(.02))],\n",
    "              ['Testing set', 'Training set'], loc=(1.02, .8))\n",
    "plot_cv_indices(cv, X, y, groups, ax, n_splits);"
   ]
  },
  {
   "cell_type": "code",
   "execution_count": 18,
   "metadata": {},
   "outputs": [
    {
     "name": "stdout",
     "output_type": "stream",
     "text": [
      "GroupKFold(n_splits=2)\n",
      "TRAIN: [0 1 2] TEST: [3 4 5]\n",
      "[10 20 30] [40 50 60] [1 2 3] [4 5 6]\n",
      "TRAIN: [3 4 5] TEST: [0 1 2]\n",
      "[40 50 60] [10 20 30] [4 5 6] [1 2 3]\n"
     ]
    }
   ],
   "source": [
    "Xt = np.array([10, 20, 30, 40, 50, 60])\n",
    "yt = np.array([1, 2, 3, 4, 5, 6])\n",
    "groupst = np.array([0, 0, 0, 2, 2, 2])\n",
    "group_kfold = GroupKFold(n_splits=2)\n",
    "group_kfold.get_n_splits(Xt, yt, groupst)\n",
    "\n",
    "print(group_kfold)\n",
    "\n",
    "for train_index, test_index in group_kfold.split(Xt, yt, groupst):\n",
    "    print(\"TRAIN:\", train_index, \"TEST:\", test_index)\n",
    "    X_train, X_test = Xt[train_index], Xt[test_index]\n",
    "    y_train, y_test = yt[train_index], yt[test_index]\n",
    "    print(X_train, X_test, y_train, y_test)"
   ]
  },
  {
   "cell_type": "code",
   "execution_count": 19,
   "metadata": {},
   "outputs": [
    {
     "name": "stdout",
     "output_type": "stream",
     "text": [
      "GroupKFold(n_splits=3)\n",
      "TRAIN: [0 1 2 3] TEST: [4 5]\n",
      "[10 20 30 40] [50 60] [1 2 3 4] [5 6]\n",
      "TRAIN: [0 1 4 5] TEST: [2 3]\n",
      "[10 20 50 60] [30 40] [1 2 5 6] [3 4]\n",
      "TRAIN: [2 3 4 5] TEST: [0 1]\n",
      "[30 40 50 60] [10 20] [3 4 5 6] [1 2]\n"
     ]
    }
   ],
   "source": [
    "Xt = np.array([10, 20, 30, 40, 50, 60])\n",
    "yt = np.array([1, 2, 3, 4, 5, 6])\n",
    "groupst = np.array([0, 0, 1, 1, 2, 2])\n",
    "group_kfold = GroupKFold(n_splits=3)\n",
    "group_kfold.get_n_splits(Xt, yt, groupst)\n",
    "\n",
    "print(group_kfold)\n",
    "\n",
    "for train_index, test_index in group_kfold.split(Xt, yt, groupst):\n",
    "    print(\"TRAIN:\", train_index, \"TEST:\", test_index)\n",
    "    X_train, X_test = Xt[train_index], Xt[test_index]\n",
    "    y_train, y_test = yt[train_index], yt[test_index]\n",
    "    print(X_train, X_test, y_train, y_test)"
   ]
  },
  {
   "cell_type": "markdown",
   "metadata": {},
   "source": [
    "## кросс-валидация GroupShuffleSplit"
   ]
  },
  {
   "cell_type": "code",
   "execution_count": 20,
   "metadata": {},
   "outputs": [
    {
     "data": {
      "image/png": "[encoded data removed]",
      "text/plain": [
       "<Figure size 432x288 with 1 Axes>"
      ]
     },
     "metadata": {
      "needs_background": "light"
     },
     "output_type": "display_data"
    }
   ],
   "source": [
    "fig, ax = plt.subplots()\n",
    "cv = GroupShuffleSplit(n_splits)\n",
    "ax.legend([Patch(color=cmap_cv(.8)), Patch(color=cmap_cv(.02))],\n",
    "              ['Testing set', 'Training set'], loc=(1.02, .8))\n",
    "plot_cv_indices(cv, X, y, groups, ax, n_splits);"
   ]
  },
  {
   "cell_type": "code",
   "execution_count": 21,
   "metadata": {},
   "outputs": [
    {
     "name": "stdout",
     "output_type": "stream",
     "text": [
      "GroupShuffleSplit(n_splits=5, random_state=42, test_size=None, train_size=0.7)\n",
      "TRAIN: [2 3 4 5] TEST: [0 1]\n",
      "[30 40 50 60] [10 20] [3 4 5 6] [1 2]\n",
      "TRAIN: [0 1 4 5] TEST: [2 3]\n",
      "[10 20 50 60] [30 40] [1 2 5 6] [3 4]\n",
      "TRAIN: [2 3 4 5] TEST: [0 1]\n",
      "[30 40 50 60] [10 20] [3 4 5 6] [1 2]\n",
      "TRAIN: [0 1 4 5] TEST: [2 3]\n",
      "[10 20 50 60] [30 40] [1 2 5 6] [3 4]\n",
      "TRAIN: [2 3 4 5] TEST: [0 1]\n",
      "[30 40 50 60] [10 20] [3 4 5 6] [1 2]\n"
     ]
    }
   ],
   "source": [
    "Xt = np.array([10, 20, 30, 40, 50, 60])\n",
    "yt = np.array([1, 2, 3, 4, 5, 6])\n",
    "groupst = np.array([0, 0, 1, 1, 2, 2])\n",
    "group_kfold = GroupShuffleSplit( n_splits=5, train_size=.7, random_state=42)\n",
    "group_kfold.get_n_splits(Xt, yt, groupst)\n",
    "\n",
    "print(group_kfold)\n",
    "\n",
    "for train_index, test_index in group_kfold.split(Xt, yt, groupst):\n",
    "    print(\"TRAIN:\", train_index, \"TEST:\", test_index)\n",
    "    X_train, X_test = Xt[train_index], Xt[test_index]\n",
    "    y_train, y_test = yt[train_index], yt[test_index]\n",
    "    print(X_train, X_test, y_train, y_test)"
   ]
  },
  {
   "cell_type": "code",
   "execution_count": null,
   "metadata": {},
   "outputs": [],
   "source": []
  }
 ],
 "metadata": {
  "kernelspec": {
   "display_name": "Python 3",
   "language": "python",
   "name": "python3"
  },
  "language_info": {
   "codemirror_mode": {
    "name": "ipython",
    "version": 3
   },
   "file_extension": ".py",
   "mimetype": "text/x-python",
   "name": "python",
   "nbconvert_exporter": "python",
   "pygments_lexer": "ipython3",
   "version": "3.7.4"
  }
 },
 "nbformat": 4,
 "nbformat_minor": 2
}
