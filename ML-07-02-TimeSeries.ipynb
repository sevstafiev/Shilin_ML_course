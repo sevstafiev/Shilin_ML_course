{
 "cells": [
  {
   "cell_type": "code",
   "execution_count": 1,
   "metadata": {},
   "outputs": [],
   "source": [
    "import numpy as np\n",
    "import pandas as pd\n",
    "import matplotlib.pyplot as plt\n",
    "import seaborn as sns\n",
    "from IPython.display import display\n",
    "import datetime"
   ]
  },
  {
   "cell_type": "markdown",
   "metadata": {},
   "source": [
    "### Загрузка данных\n",
    "Воспользуемся уже известным нам набором с велосипедами в Сиэтле"
   ]
  },
  {
   "cell_type": "code",
   "execution_count": null,
   "metadata": {},
   "outputs": [],
   "source": [
    "temp=pd.read_csv('Fremont_Bridge_Bicycle_Counter.csv',index_col='Date',parse_dates=True)\n",
    "display(temp.head(3))\n",
    "display(temp.info())"
   ]
  },
  {
   "cell_type": "markdown",
   "metadata": {},
   "source": [
    "Возмем направление проезда (для простоты) в одном направлении"
   ]
  },
  {
   "cell_type": "code",
   "execution_count": null,
   "metadata": {},
   "outputs": [],
   "source": [
    "df_E=pd.DataFrame(temp['Fremont Bridge East Sidewalk'])\n",
    "df_E.head(3)"
   ]
  },
  {
   "cell_type": "markdown",
   "metadata": {},
   "source": [
    "### Календарь выходных США \n",
    "Необходимость использования требует доказательства как и выходные дни, для которых мы ранее преводили доказательство, но мы его пропустим"
   ]
  },
  {
   "cell_type": "code",
   "execution_count": null,
   "metadata": {},
   "outputs": [],
   "source": [
    "from pandas.tseries.holiday import USFederalHolidayCalendar\n",
    "cal = USFederalHolidayCalendar()\n",
    "holidays = cal.holidays('2012', '2019', return_name=True)\n",
    "holidays.head()"
   ]
  },
  {
   "cell_type": "markdown",
   "metadata": {},
   "source": [
    "### Увеличиваем панель с данными\n",
    "Добавляем данные о годе, квартале, месяце, дне недели, рабочем дне, выходном, дне месяца"
   ]
  },
  {
   "cell_type": "code",
   "execution_count": null,
   "metadata": {},
   "outputs": [],
   "source": [
    "# Год\n",
    "df_E['year'] = df_E.index.year\n",
    "# Месяц\n",
    "df_E['month'] = df_E.index.month\n",
    "# Час\n",
    "df_E['hour'] = df_E.index.hour\n",
    "\n",
    "# Квартал\n",
    "df_E['Quarter'] = df_E.index.quarter.astype('str')\n",
    "# Номер месяца\n",
    "df_E['NumOfMonth'] = df_E.index.month.astype('str')\n",
    "# Номер недели\n",
    "df_E['NumOfWeek'] = df_E.index.weekofyear\n",
    "# День недели\n",
    "df_E['DayOfWeek'] = df_E.index.dayofweek.astype('str')\n",
    "# Выходной или нет\n",
    "df_E['WorkdayOrNot'] = np.where(df_E.index.dayofweek<5, 'workday', 'weekend')\n",
    "df_E.loc[df_E.index.strftime('%Y-%m-%d').isin(holidays.index.strftime('%Y-%m-%d')), 'WorkdayOrNot'] = 'weekend'\n",
    "# День месяца\n",
    "df_E['Day'] = df_E.index.day\n",
    "# День года\n",
    "df_E['DayOfYear'] = df_E.index.dayofyear\n",
    "df_E.head(5)\n",
    "\n",
    "# может еще, что добавите?"
   ]
  },
  {
   "cell_type": "code",
   "execution_count": null,
   "metadata": {},
   "outputs": [],
   "source": [
    "df_E=df_E.fillna(0)\n",
    "df_E.head(5)"
   ]
  },
  {
   "cell_type": "code",
   "execution_count": 7,
   "metadata": {},
   "outputs": [],
   "source": [
    "# выделили вектор целевых переменных \n",
    "Y=df_E['Fremont Bridge East Sidewalk']"
   ]
  },
  {
   "cell_type": "code",
   "execution_count": null,
   "metadata": {},
   "outputs": [],
   "source": [
    "# выделили панель с данными \n",
    "df_X=df_E.drop('Fremont Bridge East Sidewalk', axis=1)\n",
    "display(df_X.head(5))"
   ]
  },
  {
   "cell_type": "code",
   "execution_count": null,
   "metadata": {},
   "outputs": [],
   "source": [
    "# построили дамми на кварталах, месяцах, днях недели, выходных \n",
    "df_dammy=pd.concat(\n",
    "    [\n",
    "    df_X[['year','month','hour']],\n",
    "    pd.get_dummies(df_X[['Quarter', 'NumOfMonth', 'DayOfWeek', 'WorkdayOrNot']])\n",
    "    ],\n",
    "    axis=1)\n",
    "df_dammy.head(5)"
   ]
  },
  {
   "cell_type": "markdown",
   "metadata": {},
   "source": [
    "### Домашнее задание\n",
    "\n",
    "Цель найти лучшую модель для прогноза на конкретный день (модель 1) и на конкретный час (модель 2) \n",
    "Кстати, может достаточно сделать модель 2 а день агрегировать на часовой модели?\n",
    "Валидировать модель.\n",
    "Данные можно использовать до 31 декабря 2018, для обучения и валидации модели.\n",
    "Горизонт предсказания 3 месяца!!!\n",
    "Год 2019, только для тестирования результата, и определения итогового score.\n",
    "\n",
    "Построить итоговую предсказательную модель (вводится дата любоя дата/время с 1 января 2019 года + 3 мес.)\n",
    "Модель 1 - ввел дату и время получил количество велосипедов в день \n",
    "Модель 2 - ввел дату и время получил количество велосипедов в час\n",
    "\n",
    "Можно сделать одну модель, которая в зависимости от полноты ввода даных даст ответ. "
   ]
  },
  {
   "cell_type": "markdown",
   "metadata": {},
   "source": [
    "#### Внимание!\n",
    "Отюда и ниже самый простой пример по прогнозированию. Вам предстоит сделать лучше. Здесь указаны общие подходы. Все сделано на коленке и является крайне сомнительным прототипом :)"
   ]
  },
  {
   "cell_type": "code",
   "execution_count": 10,
   "metadata": {},
   "outputs": [],
   "source": [
    "from sklearn.metrics import r2_score\n",
    "\n",
    "# отрезан хвост для валидации (которую я тут не делаю)\n",
    "X=df_dammy.values\n",
    "y=Y.values\n",
    "pr=365*24\n",
    "X_train=X[:-pr]\n",
    "y_train=y[:-pr]\n",
    "X_test=X[-pr:]\n",
    "y_test=y[-pr:]"
   ]
  },
  {
   "cell_type": "code",
   "execution_count": 11,
   "metadata": {},
   "outputs": [
    {
     "data": {
      "text/plain": [
       "(56928, 28)"
      ]
     },
     "execution_count": 11,
     "metadata": {},
     "output_type": "execute_result"
    }
   ],
   "source": [
    "X_train.shape"
   ]
  },
  {
   "cell_type": "code",
   "execution_count": 12,
   "metadata": {},
   "outputs": [
    {
     "data": {
      "text/plain": [
       "0.7744652733760319"
      ]
     },
     "execution_count": 12,
     "metadata": {},
     "output_type": "execute_result"
    }
   ],
   "source": [
    "# простенькая моделька и на коленке score БЕЗ ВАЛИДАЦИИ TimeSeriesSplit, а она нужна !!!\n",
    "from sklearn.ensemble import RandomForestRegressor\n",
    "model = RandomForestRegressor(n_jobs=-1, random_state=0, n_estimators=300)\n",
    "model.fit(X_train, y_train)\n",
    "r2_score(model.predict(X_test), y_test)"
   ]
  },
  {
   "cell_type": "code",
   "execution_count": 26,
   "metadata": {
    "scrolled": false
   },
   "outputs": [
    {
     "data": {
      "image/png": "[encoded data removed]",
      "text/plain": [
       "<Figure size 1080x216 with 1 Axes>"
      ]
     },
     "metadata": {
      "needs_background": "light"
     },
     "output_type": "display_data"
    }
   ],
   "source": [
    "# Простенькая картинка по типу \"попал - не попал\"\n",
    "Delta=300\n",
    "plt.figure(figsize=(15, 3))\n",
    "plt.plot(\n",
    "    df_E.index.values[(-pr-Delta):(-pr+Delta)], \n",
    "    y[(-pr-Delta):(-pr+Delta)], label=\"train\")\n",
    "plt.plot(\n",
    "    df_E.index.values[-pr:(-pr+Delta)], \n",
    "    model.predict(X[-pr:(-pr+Delta)]), \n",
    "    '--', label=\"prediction train\")\n",
    "plt.legend(loc=(1.01, 0))\n",
    "plt.xlabel(\"Дата\");\n",
    "plt.ylabel(\"Количество\");"
   ]
  },
  {
   "cell_type": "markdown",
   "metadata": {},
   "source": [
    "# Д/з"
   ]
  },
  {
   "cell_type": "markdown",
   "metadata": {},
   "source": [
    "# Модель на конкретный час"
   ]
  },
  {
   "cell_type": "code",
   "execution_count": 133,
   "metadata": {},
   "outputs": [],
   "source": [
    "from sklearn.pipeline import Pipeline\n",
    "from sklearn.model_selection import TimeSeriesSplit, GridSearchCV\n",
    "from sklearn.metrics import r2_score\n",
    "from sklearn.svm import SVR\n",
    "\n",
    "from sklearn.ensemble import RandomForestRegressor, GradientBoostingRegressor, BaggingRegressor\n",
    "from sklearn.linear_model import LinearRegression, RidgeCV, LassoCV, ElasticNetCV\n",
    "import xgboost as xgb"
   ]
  },
  {
   "cell_type": "code",
   "execution_count": 211,
   "metadata": {},
   "outputs": [],
   "source": [
    "X_train = df_dammy.loc[:'2018-12-31']\n",
    "y_train = Y.loc[:'2018-12-31']\n",
    "\n",
    "y_test = Y.loc['2018-12-31':'2019-04-1']\n",
    "X_test = df_dammy.loc['2018-12-31':'2019-04-1']\n",
    "\n",
    "model = RandomForestRegressor(n_jobs = -1,criterion='r2')"
   ]
  },
  {
   "cell_type": "markdown",
   "metadata": {},
   "source": [
    "# XGB"
   ]
  },
  {
   "cell_type": "code",
   "execution_count": 113,
   "metadata": {},
   "outputs": [
    {
     "data": {
      "text/plain": [
       "GridSearchCV(cv=TimeSeriesSplit(max_train_size=None, n_splits=5),\n",
       "             error_score=nan,\n",
       "             estimator=XGBRegressor(base_score=0.5, booster='gbtree',\n",
       "                                    colsample_bylevel=1, colsample_bynode=1,\n",
       "                                    colsample_bytree=1, gamma=0,\n",
       "                                    importance_type='gain', learning_rate=0.1,\n",
       "                                    max_delta_step=0, max_depth=3,\n",
       "                                    min_child_weight=1, missing=None,\n",
       "                                    n_estimators=100, n_jobs=1, nthread=None,\n",
       "                                    objective='reg:squarederror',\n",
       "                                    random_state=0, reg_alpha=0, reg_lambda=1,\n",
       "                                    scale_pos_weight=1, seed=None, silent=None,\n",
       "                                    subsample=1, verbosity=1),\n",
       "             iid='deprecated', n_jobs=None,\n",
       "             param_grid={'max_depth': [3, 5], 'n_estimators': [100, 300, 500]},\n",
       "             pre_dispatch='2*n_jobs', refit=True, return_train_score=False,\n",
       "             scoring='r2', verbose=0)"
      ]
     },
     "execution_count": 113,
     "metadata": {},
     "output_type": "execute_result"
    }
   ],
   "source": [
    "model = xgb.XGBRegressor(objective='reg:squarederror')\n",
    "param_search = {'max_depth' : [3, 5],\n",
    "               'n_estimators':[100,300,500]}\n",
    "\n",
    "tss = TimeSeriesSplit(n_splits=5)\n",
    "gsearch = GridSearchCV(estimator=model, cv=tss, param_grid=param_search,scoring='r2')\n",
    "gsearch.fit(X_train,y_train)"
   ]
  },
  {
   "cell_type": "code",
   "execution_count": 114,
   "metadata": {},
   "outputs": [
    {
     "data": {
      "text/plain": [
       "0.6564827193117617"
      ]
     },
     "execution_count": 114,
     "metadata": {},
     "output_type": "execute_result"
    }
   ],
   "source": [
    "r2_score(y_test,gsearch.predict(X_test))"
   ]
  },
  {
   "cell_type": "markdown",
   "metadata": {},
   "source": [
    "# Linear regressions"
   ]
  },
  {
   "cell_type": "code",
   "execution_count": 115,
   "metadata": {
    "scrolled": true
   },
   "outputs": [
    {
     "data": {
      "text/plain": [
       "0.009579087363890237"
      ]
     },
     "execution_count": 115,
     "metadata": {},
     "output_type": "execute_result"
    }
   ],
   "source": [
    "ridge_regr = RidgeCV(cv=tss)\n",
    "ridge_regr.fit(X_train,y_train)\n",
    "r2_score(y_test,ridge_regr.predict(X_test))"
   ]
  },
  {
   "cell_type": "code",
   "execution_count": 116,
   "metadata": {},
   "outputs": [
    {
     "data": {
      "text/plain": [
       "0.009579087363890237"
      ]
     },
     "execution_count": 116,
     "metadata": {},
     "output_type": "execute_result"
    }
   ],
   "source": [
    "lasso_regr = LassoCV(cv=tss)\n",
    "lasso_regr.fit(X_train,y_train)\n",
    "r2_score(y_test,ridge_regr.predict(X_test))"
   ]
  },
  {
   "cell_type": "code",
   "execution_count": 118,
   "metadata": {
    "scrolled": true
   },
   "outputs": [
    {
     "data": {
      "text/plain": [
       "0.012494696795167237"
      ]
     },
     "execution_count": 118,
     "metadata": {},
     "output_type": "execute_result"
    }
   ],
   "source": [
    "ridge_regr = ElasticNetCV(cv=tss)\n",
    "ridge_regr.fit(X_train,y_train)\n",
    "r2_score(y_test,ridge_regr.predict(X_test))"
   ]
  },
  {
   "cell_type": "code",
   "execution_count": 23,
   "metadata": {},
   "outputs": [
    {
     "data": {
      "text/plain": [
       "9"
      ]
     },
     "execution_count": 23,
     "metadata": {},
     "output_type": "execute_result"
    }
   ],
   "source": [
    "int(X.shape[1]/3)"
   ]
  },
  {
   "cell_type": "markdown",
   "metadata": {},
   "source": [
    "бесполезны здесь"
   ]
  },
  {
   "cell_type": "markdown",
   "metadata": {},
   "source": [
    "# Случайный лес (наилучшая модель)"
   ]
  },
  {
   "cell_type": "code",
   "execution_count": 212,
   "metadata": {
    "scrolled": true
   },
   "outputs": [
    {
     "data": {
      "text/plain": [
       "0.6937222624889023"
      ]
     },
     "execution_count": 212,
     "metadata": {},
     "output_type": "execute_result"
    }
   ],
   "source": [
    "rf = RandomForestRegressor(n_jobs=-1,max_features=int(X.shape[1]/3))\n",
    "param_search = {'max_depth' : [14],\n",
    "                'n_estimators':[1000],\n",
    "               }\n",
    "\n",
    "tss = TimeSeriesSplit(n_splits=5)\n",
    "gsearch = GridSearchCV(estimator=rf, cv=tss, param_grid=param_search,scoring='r2')\n",
    "gsearch.fit(X_train,y_train)\n",
    "r2_score(y_test,gsearch.predict(X_test))"
   ]
  },
  {
   "cell_type": "code",
   "execution_count": 216,
   "metadata": {},
   "outputs": [],
   "source": [
    "predicts = gsearch.predict(X_test)"
   ]
  },
  {
   "cell_type": "code",
   "execution_count": 217,
   "metadata": {},
   "outputs": [
    {
     "data": {
      "image/png": "[encoded data removed]",
      "text/plain": [
       "<Figure size 432x288 with 1 Axes>"
      ]
     },
     "metadata": {
      "needs_background": "light"
     },
     "output_type": "display_data"
    }
   ],
   "source": [
    "data_hour = {'real':y_test,'predicted':predicts}\n",
    "pd.DataFrame(data_hour).plot();"
   ]
  },
  {
   "cell_type": "markdown",
   "metadata": {},
   "source": [
    "# Теперь для дней"
   ]
  },
  {
   "cell_type": "code",
   "execution_count": 164,
   "metadata": {},
   "outputs": [],
   "source": [
    "X_train = df_dammy[:'2018-12-31'].resample('1d').first()\n",
    "X_train.drop('hour',inplace=True,axis=1)\n",
    "y_train = Y[:'2018-12-31'].resample('1d').sum()\n",
    "\n",
    "y_test = Y['2018-12-31':'2019-04-1'].resample('1d').sum()\n",
    "y_test = y_test[1:]\n",
    "X_test = df_dammy['2018-12-31':'2019-04-1'].resample('1d').first()\n",
    "X_test = X_test.iloc[1:,:]\n",
    "X_test.drop('hour',inplace=True,axis=1)"
   ]
  },
  {
   "cell_type": "code",
   "execution_count": 165,
   "metadata": {},
   "outputs": [
    {
     "data": {
      "text/plain": [
       "0.24509914322342263"
      ]
     },
     "execution_count": 165,
     "metadata": {},
     "output_type": "execute_result"
    }
   ],
   "source": [
    "rf = RandomForestRegressor(n_jobs=-1,max_features=int(X.shape[1]/3))\n",
    "param_search = {'max_depth' : np.arange(2,12,1),\n",
    "                'n_estimators':[200],\n",
    "               }\n",
    "\n",
    "tss = TimeSeriesSplit(n_splits=5)\n",
    "gsearch = GridSearchCV(estimator=rf, cv=tss, param_grid=param_search,scoring='r2')\n",
    "gsearch.fit(X_train,y_train)\n",
    "r2_score(y_test,gsearch.predict(X_test))"
   ]
  },
  {
   "cell_type": "code",
   "execution_count": 166,
   "metadata": {},
   "outputs": [
    {
     "data": {
      "text/plain": [
       "{'max_depth': 7, 'n_estimators': 200}"
      ]
     },
     "execution_count": 166,
     "metadata": {},
     "output_type": "execute_result"
    }
   ],
   "source": [
    "gsearch.best_params_"
   ]
  },
  {
   "cell_type": "code",
   "execution_count": 188,
   "metadata": {},
   "outputs": [
    {
     "data": {
      "text/plain": [
       "Date\n",
       "2019-01-01     335.0\n",
       "2019-01-02     895.0\n",
       "2019-01-03     649.0\n",
       "2019-01-04     809.0\n",
       "2019-01-05     482.0\n",
       "               ...  \n",
       "2019-03-28    1455.0\n",
       "2019-03-29    1420.0\n",
       "2019-03-30    1239.0\n",
       "2019-03-31    1134.0\n",
       "2019-04-01    1629.0\n",
       "Freq: D, Name: Fremont Bridge East Sidewalk, Length: 91, dtype: float64"
      ]
     },
     "execution_count": 188,
     "metadata": {},
     "output_type": "execute_result"
    }
   ],
   "source": [
    "pd.Series(y_test)"
   ]
  },
  {
   "cell_type": "code",
   "execution_count": 195,
   "metadata": {},
   "outputs": [],
   "source": [
    "data_day = {'predicted':gsearch.predict(X_test), 'real':y_test}"
   ]
  },
  {
   "cell_type": "code",
   "execution_count": 196,
   "metadata": {},
   "outputs": [
    {
     "data": {
      "image/png": "[encoded data removed]",
      "text/plain": [
       "<Figure size 432x288 with 1 Axes>"
      ]
     },
     "metadata": {
      "needs_background": "light"
     },
     "output_type": "display_data"
    }
   ],
   "source": [
    "pd.DataFrame(data_day,index=y_test.index).plot();"
   ]
  },
  {
   "cell_type": "code",
   "execution_count": null,
   "metadata": {},
   "outputs": [],
   "source": []
  },
  {
   "cell_type": "code",
   "execution_count": 129,
   "metadata": {},
   "outputs": [
    {
     "data": {
      "text/plain": [
       "0.19333092842485733"
      ]
     },
     "execution_count": 129,
     "metadata": {},
     "output_type": "execute_result"
    }
   ],
   "source": [
    "model = xgb.XGBRegressor(objective='reg:squarederror')\n",
    "param_search = {'max_depth' : np.arange(1,10,1),\n",
    "               'n_estimators':np.arange(20,200,10)}\n",
    "\n",
    "tss = TimeSeriesSplit(n_splits=5)\n",
    "gsearch = GridSearchCV(estimator=model, cv=tss, param_grid=param_search,scoring='r2')\n",
    "gsearch.fit(X_train,y_train)\n",
    "r2_score(y_test,gsearch.predict(X_test))"
   ]
  },
  {
   "cell_type": "markdown",
   "metadata": {},
   "source": [
    "### Итог: лучше предсказывать для часов, а затем аггрегировать т.к. так больше информации и предсказание точнее"
   ]
  },
  {
   "cell_type": "code",
   "execution_count": 218,
   "metadata": {},
   "outputs": [],
   "source": [
    "predicts = pd.DataFrame(predicts,index=y_test.index,columns=[\"bikes_passed\"])"
   ]
  },
  {
   "cell_type": "markdown",
   "metadata": {},
   "source": [
    "# Предсказание для дней"
   ]
  },
  {
   "cell_type": "code",
   "execution_count": 219,
   "metadata": {},
   "outputs": [
    {
     "data": {
      "text/plain": [
       "bikes_passed    992.312022\n",
       "dtype: float64"
      ]
     },
     "execution_count": 219,
     "metadata": {},
     "output_type": "execute_result"
    }
   ],
   "source": [
    "predicts.loc['2019-03-01'].sum()"
   ]
  },
  {
   "cell_type": "markdown",
   "metadata": {},
   "source": [
    "# Предсказание для часа"
   ]
  },
  {
   "cell_type": "code",
   "execution_count": 220,
   "metadata": {},
   "outputs": [
    {
     "data": {
      "text/plain": [
       "bikes_passed    1.466778\n",
       "Name: 2019-03-01 01:00:00, dtype: float64"
      ]
     },
     "execution_count": 220,
     "metadata": {},
     "output_type": "execute_result"
    }
   ],
   "source": [
    "predicts.loc['2019-03-01 01:00:00']"
   ]
  },
  {
   "cell_type": "code",
   "execution_count": 221,
   "metadata": {},
   "outputs": [
    {
     "data": {
      "text/html": [
       "<div>\n",
       "<style scoped>\n",
       "    .dataframe tbody tr th:only-of-type {\n",
       "        vertical-align: middle;\n",
       "    }\n",
       "\n",
       "    .dataframe tbody tr th {\n",
       "        vertical-align: top;\n",
       "    }\n",
       "\n",
       "    .dataframe thead th {\n",
       "        text-align: right;\n",
       "    }\n",
       "</style>\n",
       "<table border=\"1\" class=\"dataframe\">\n",
       "  <thead>\n",
       "    <tr style=\"text-align: right;\">\n",
       "      <th></th>\n",
       "      <th>bikes_passed</th>\n",
       "    </tr>\n",
       "    <tr>\n",
       "      <th>Date</th>\n",
       "      <th></th>\n",
       "    </tr>\n",
       "  </thead>\n",
       "  <tbody>\n",
       "    <tr>\n",
       "      <th>2018-12-31 00:00:00</th>\n",
       "      <td>0.806838</td>\n",
       "    </tr>\n",
       "    <tr>\n",
       "      <th>2018-12-31 01:00:00</th>\n",
       "      <td>0.658191</td>\n",
       "    </tr>\n",
       "    <tr>\n",
       "      <th>2018-12-31 02:00:00</th>\n",
       "      <td>0.803658</td>\n",
       "    </tr>\n",
       "    <tr>\n",
       "      <th>2018-12-31 03:00:00</th>\n",
       "      <td>0.780618</td>\n",
       "    </tr>\n",
       "    <tr>\n",
       "      <th>2018-12-31 04:00:00</th>\n",
       "      <td>2.638440</td>\n",
       "    </tr>\n",
       "    <tr>\n",
       "      <th>...</th>\n",
       "      <td>...</td>\n",
       "    </tr>\n",
       "    <tr>\n",
       "      <th>2019-04-01 19:00:00</th>\n",
       "      <td>69.372002</td>\n",
       "    </tr>\n",
       "    <tr>\n",
       "      <th>2019-04-01 20:00:00</th>\n",
       "      <td>30.756951</td>\n",
       "    </tr>\n",
       "    <tr>\n",
       "      <th>2019-04-01 21:00:00</th>\n",
       "      <td>18.156155</td>\n",
       "    </tr>\n",
       "    <tr>\n",
       "      <th>2019-04-01 22:00:00</th>\n",
       "      <td>13.657457</td>\n",
       "    </tr>\n",
       "    <tr>\n",
       "      <th>2019-04-01 23:00:00</th>\n",
       "      <td>8.701961</td>\n",
       "    </tr>\n",
       "  </tbody>\n",
       "</table>\n",
       "<p>2208 rows × 1 columns</p>\n",
       "</div>"
      ],
      "text/plain": [
       "                     bikes_passed\n",
       "Date                             \n",
       "2018-12-31 00:00:00      0.806838\n",
       "2018-12-31 01:00:00      0.658191\n",
       "2018-12-31 02:00:00      0.803658\n",
       "2018-12-31 03:00:00      0.780618\n",
       "2018-12-31 04:00:00      2.638440\n",
       "...                           ...\n",
       "2019-04-01 19:00:00     69.372002\n",
       "2019-04-01 20:00:00     30.756951\n",
       "2019-04-01 21:00:00     18.156155\n",
       "2019-04-01 22:00:00     13.657457\n",
       "2019-04-01 23:00:00      8.701961\n",
       "\n",
       "[2208 rows x 1 columns]"
      ]
     },
     "execution_count": 221,
     "metadata": {},
     "output_type": "execute_result"
    }
   ],
   "source": [
    "predicts"
   ]
  },
  {
   "cell_type": "code",
   "execution_count": 225,
   "metadata": {},
   "outputs": [],
   "source": [
    "predicts.to_csv('bikes.csv')"
   ]
  }
 ],
 "metadata": {
  "kernelspec": {
   "display_name": "Python 3",
   "language": "python",
   "name": "python3"
  },
  "language_info": {
   "codemirror_mode": {
    "name": "ipython",
    "version": 3
   },
   "file_extension": ".py",
   "mimetype": "text/x-python",
   "name": "python",
   "nbconvert_exporter": "python",
   "pygments_lexer": "ipython3",
   "version": "3.7.6"
  }
 },
 "nbformat": 4,
 "nbformat_minor": 2
}
